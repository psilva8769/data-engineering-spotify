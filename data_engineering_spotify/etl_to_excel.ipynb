{
 "cells": [
  {
   "cell_type": "code",
   "execution_count": null,
   "metadata": {},
   "outputs": [],
   "source": [
    "# Imports and Initialization\n",
    "import spotipy\n",
    "import pandas as pd\n",
    "from spotipy.oauth2 import SpotifyOAuth\n",
    "\n",
    "# Defining Spotify credentials (placeholders for actual values)\n",
    "SPOTIFY_CLIENT_ID = ''\n",
    "SPOTIFY_CLIENT_SECRET = ''\n",
    "SPOTIFY_REDIRECT_URI = ''\n",
    "\n",
    "# Initializing Spotify client with OAuth\n",
    "sp_auth = SpotifyOAuth(client_id=SPOTIFY_CLIENT_ID, \n",
    "                       client_secret=SPOTIFY_CLIENT_SECRET, \n",
    "                       redirect_uri=SPOTIFY_REDIRECT_URI)\n",
    "sp = spotipy.Spotify(auth_manager=sp_auth)\n"
   ]
  },
  {
   "cell_type": "code",
   "execution_count": null,
   "metadata": {},
   "outputs": [],
   "source": [
    "# Playlist URI Extraction\n",
    "def extract_playlist_uri(playlist_link):\n",
    "    if 'open.spotify.com/playlist/' in playlist_link:\n",
    "        return playlist_link.split('playlist/')[1].split('?')[0]\n",
    "    return None\n",
    "\n",
    "playlist_link = 'https://open.spotify.com/playlist/37i9dQZEVXbMDoHDwVN2tF'\n",
    "playlist_URI = extract_playlist_uri(playlist_link)\n"
   ]
  },
  {
   "cell_type": "code",
   "execution_count": null,
   "metadata": {},
   "outputs": [],
   "source": [
    "# Fetching Playlist Tracks with Enhanced Functionality\n",
    "def get_playlist_tracks(sp_client, playlist_uri):\n",
    "    results = sp_client.playlist_tracks(playlist_uri)\n",
    "    tracks = results['items']\n",
    "    while results['next']:\n",
    "        results = sp_client.next(results)\n",
    "        tracks.extend(results['items'])\n",
    "    return tracks\n",
    "\n",
    "tracks = get_playlist_tracks(sp, playlist_URI)"
   ]
  },
  {
   "cell_type": "code",
   "execution_count": null,
   "metadata": {},
   "outputs": [],
   "source": [
    "# Extracting and Compiling Album, Artist, and Song Data\n",
    "def compile_album_data(tracks):\n",
    "    albums = []\n",
    "    seen_albums = set()\n",
    "    for track in tracks:\n",
    "        album = track['track']['album']\n",
    "        if album['id'] not in seen_albums:\n",
    "            albums.append({\n",
    "                'album_id': album['id'],\n",
    "                'name': album['name'],\n",
    "                'release_date': pd.to_datetime(album['release_date']),\n",
    "                'total_tracks': album['total_tracks'],\n",
    "                'url': album['external_urls']['spotify']\n",
    "            })\n",
    "            seen_albums.add(album['id'])\n",
    "    return albums\n",
    "\n",
    "def compile_artist_song_data(tracks):\n",
    "    artists, songs = [], []\n",
    "    seen_artists = set()\n",
    "    for track in tracks:\n",
    "        song_info = track['track']\n",
    "        songs.append({\n",
    "            'song_id': song_info['id'],\n",
    "            'song_name': song_info['name'],\n",
    "            'duration_ms': song_info['duration_ms'],\n",
    "            'url': song_info['external_urls']['spotify'],\n",
    "            'popularity': song_info['popularity'],\n",
    "            'song_added': pd.to_datetime(track['added_at']),\n",
    "            'album_id': song_info['album']['id'],\n",
    "            'artist_id': song_info['album']['artists'][0]['id']\n",
    "        })\n",
    "        for artist in song_info['artists']:\n",
    "            if artist['id'] not in seen_artists:\n",
    "                artists.append({\n",
    "                    'artist_id': artist['id'],\n",
    "                    'artist_name': artist['name'],\n",
    "                    'external_url': artist['href']\n",
    "                })\n",
    "                seen_artists.add(artist['id'])\n",
    "    return artists, songs\n",
    "\n",
    "album_data = compile_album_data(tracks)\n",
    "album_df = pd.DataFrame(album_data)\n",
    "artist_data, song_data = compile_artist_song_data(tracks)\n",
    "artist_df = pd.DataFrame(artist_data)\n",
    "song_df = pd.DataFrame(song_data)"
   ]
  },
  {
   "cell_type": "code",
   "execution_count": null,
   "metadata": {},
   "outputs": [],
   "source": [
    "# Exporting Data to Excel (OPTIONAL STEP)\n",
    "with pd.ExcelWriter('spotify_data.xlsx') as writer:\n",
    "    album_df.to_excel(writer, sheet_name='Albums', index=False)\n",
    "    artist_df.to_excel(writer, sheet_name='Artists', index=False)\n",
    "    song_df.to_excel(writer, sheet_name='Songs', index=False)"
   ]
  }
 ],
 "metadata": {
  "kernelspec": {
   "display_name": "Python 3",
   "language": "python",
   "name": "python3"
  },
  "language_info": {
   "codemirror_mode": {
    "name": "ipython",
    "version": 3
   },
   "file_extension": ".py",
   "mimetype": "text/x-python",
   "name": "python",
   "nbconvert_exporter": "python",
   "pygments_lexer": "ipython3",
   "version": "3.11.5"
  },
  "orig_nbformat": 4
 },
 "nbformat": 4,
 "nbformat_minor": 2
}
